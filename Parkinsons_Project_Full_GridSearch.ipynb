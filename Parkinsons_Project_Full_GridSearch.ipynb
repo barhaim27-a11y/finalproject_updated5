{
 "cells": [
  {
   "cell_type": "markdown",
   "id": "ff2d94f7",
   "metadata": {},
   "source": [
    "# 🧠 Parkinson's ML Project – Full Pipeline with GridSearchCV"
   ]
  },
  {
   "cell_type": "code",
   "execution_count": null,
   "id": "e8f973f8",
   "metadata": {},
   "outputs": [],
   "source": [
    "!pip install pandas numpy matplotlib seaborn scikit-learn xgboost lightgbm catboost tensorflow joblib shap plotly openpyxl"
   ]
  },
  {
   "cell_type": "code",
   "execution_count": null,
   "id": "c4dc62a9",
   "metadata": {},
   "outputs": [],
   "source": [
    "import os, json, joblib, shap\n",
    "import pandas as pd, numpy as np, matplotlib.pyplot as plt, seaborn as sns\n",
    "from sklearn.model_selection import train_test_split, GridSearchCV, learning_curve\n",
    "from sklearn.metrics import accuracy_score, precision_score, recall_score, f1_score, roc_auc_score, confusion_matrix, roc_curve, precision_recall_curve\n",
    "from sklearn.linear_model import LogisticRegression\n",
    "from sklearn.ensemble import RandomForestClassifier\n",
    "from sklearn.svm import SVC\n",
    "from sklearn.neighbors import KNeighborsClassifier\n",
    "from sklearn.preprocessing import StandardScaler\n",
    "from sklearn.pipeline import Pipeline\n",
    "from sklearn.neural_network import MLPClassifier\n",
    "import xgboost as xgb\n",
    "import lightgbm as lgb\n",
    "from catboost import CatBoostClassifier\n",
    "from sklearn.decomposition import PCA\n",
    "from sklearn.manifold import TSNE\n",
    "import plotly.graph_objects as go"
   ]
  },
  {
   "cell_type": "code",
   "execution_count": null,
   "id": "807482da",
   "metadata": {},
   "outputs": [],
   "source": [
    "!mkdir -p parkinsons_project/{data,models,assets,eda}"
   ]
  },
  {
   "cell_type": "code",
   "execution_count": null,
   "id": "bb26567a",
   "metadata": {},
   "outputs": [],
   "source": [
    "uci_url = \"https://archive.ics.uci.edu/ml/machine-learning-databases/parkinsons/parkinsons.data\"\n",
    "df = pd.read_csv(uci_url)\n",
    "if \"name\" in df.columns:\n",
    "    df = df.drop(columns=[\"name\"])\n",
    "df.columns = df.columns.str.replace(\"[^A-Za-z0-9_]+\", \"_\", regex=True).str.strip(\"_\")\n",
    "df.to_csv(\"parkinsons_project/data/parkinsons.csv\", index=False)\n",
    "X = df.drop(\"status\", axis=1)\n",
    "y = df[\"status\"]\n",
    "df.head()"
   ]
  },
  {
   "cell_type": "code",
   "execution_count": null,
   "id": "f26882ef",
   "metadata": {},
   "outputs": [],
   "source": [
    "stats_dir = \"parkinsons_project/eda\"\n",
    "df.describe().T.to_csv(os.path.join(stats_dir, \"summary_stats.csv\"))\n",
    "y.value_counts().rename({0:\"Healthy\",1:\"Parkinson’s\"}).to_csv(os.path.join(stats_dir, \"target_distribution.csv\"))\n",
    "df.corr()[\"status\"].abs().sort_values(ascending=False).to_csv(os.path.join(stats_dir, \"correlation_with_target.csv\"))\n",
    "print(\"EDA stats saved\")"
   ]
  },
  {
   "cell_type": "code",
   "execution_count": null,
   "id": "975d904c",
   "metadata": {},
   "outputs": [],
   "source": [
    "sns.set_theme(style=\"whitegrid\", palette=\"muted\")\n",
    "# Target distribution\n",
    "fig, ax = plt.subplots(1,2, figsize=(12,5))\n",
    "sns.countplot(x=y, palette=\"Set2\", ax=ax[0])\n",
    "ax[0].set_title(\"Target Distribution (Count)\")\n",
    "ax[1].pie(y.value_counts(), labels=[\"Healthy\",\"Parkinson’s\"], autopct=\"%1.1f%%\", colors=[\"#66c2a5\",\"#fc8d62\"])\n",
    "plt.savefig(os.path.join(stats_dir, \"target_distribution_combo.png\"))\n",
    "plt.close()\n",
    "# Heatmap\n",
    "plt.figure(figsize=(12,8))\n",
    "sns.heatmap(df.corr(), cmap=\"coolwarm\", center=0)\n",
    "plt.title(\"Correlation Heatmap\")\n",
    "plt.savefig(os.path.join(stats_dir, \"corr_heatmap.png\"))\n",
    "plt.close()\n",
    "# PCA\n",
    "pca = PCA(n_components=2)\n",
    "X_pca = pca.fit_transform(X)\n",
    "plt.scatter(X_pca[:,0], X_pca[:,1], c=y, cmap=\"Set2\")\n",
    "plt.title(\"PCA Projection\")\n",
    "plt.savefig(os.path.join(stats_dir, \"pca.png\"))\n",
    "plt.close()\n",
    "# t-SNE\n",
    "X_sample = X.sample(min(300, len(X)), random_state=42)\n",
    "y_sample = y.loc[X_sample.index]\n",
    "tsne = TSNE(n_components=2, random_state=42, perplexity=30, max_iter=500)\n",
    "X_tsne = tsne.fit_transform(X_sample)\n",
    "plt.scatter(X_tsne[:,0], X_tsne[:,1], c=y_sample, cmap=\"Set2\")\n",
    "plt.title(\"t-SNE Projection (sample)\")\n",
    "plt.savefig(os.path.join(stats_dir, \"tsne.png\"))\n",
    "plt.close()\n",
    "print(\"EDA plots saved\")"
   ]
  },
  {
   "cell_type": "code",
   "execution_count": null,
   "id": "8d4bdfde",
   "metadata": {},
   "outputs": [],
   "source": [
    "X_train, X_test, y_train, y_test = train_test_split(X, y, test_size=0.2, random_state=42, stratify=y)"
   ]
  },
  {
   "cell_type": "code",
   "execution_count": null,
   "id": "ec4d5034",
   "metadata": {},
   "outputs": [],
   "source": [
    "param_grids = {\n",
    "    \"RandomForest\": {\n",
    "        \"n_estimators\": [100, 200, 300],\n",
    "        \"max_depth\": [None, 10, 20],\n",
    "        \"min_samples_split\": [2, 5],\n",
    "        \"min_samples_leaf\": [1, 2]\n",
    "    },\n",
    "    \"XGBoost\": {\n",
    "        \"n_estimators\": [100, 200, 300],\n",
    "        \"learning_rate\": [0.01, 0.1, 0.2],\n",
    "        \"max_depth\": [3, 5, 7],\n",
    "        \"subsample\": [0.8, 1.0],\n",
    "        \"colsample_bytree\": [0.8, 1.0]\n",
    "    }\n",
    "}"
   ]
  },
  {
   "cell_type": "code",
   "execution_count": null,
   "id": "9c9eb1d7",
   "metadata": {},
   "outputs": [],
   "source": [
    "models = {\n",
    "    \"LogisticRegression\": Pipeline([(\"scaler\", StandardScaler()), (\"clf\", LogisticRegression(max_iter=500))]),\n",
    "    \"RandomForest\": RandomForestClassifier(random_state=42),\n",
    "    \"SVM\": Pipeline([(\"scaler\", StandardScaler()), (\"clf\", SVC(probability=True, kernel=\"rbf\"))]),\n",
    "    \"KNN\": Pipeline([(\"scaler\", StandardScaler()), (\"clf\", KNeighborsClassifier(n_neighbors=5))]),\n",
    "    \"XGBoost\": xgb.XGBClassifier(eval_metric=\"logloss\", random_state=42),\n",
    "    \"LightGBM\": lgb.LGBMClassifier(random_state=42),\n",
    "    \"CatBoost\": CatBoostClassifier(verbose=0, random_state=42),\n",
    "    \"NeuralNet\": Pipeline([(\"scaler\", StandardScaler()), (\"clf\", MLPClassifier(hidden_layer_sizes=(64,32), max_iter=500, random_state=42))])\n",
    "}"
   ]
  },
  {
   "cell_type": "code",
   "execution_count": null,
   "id": "b64a1bdc",
   "metadata": {},
   "outputs": [],
   "source": [
    "results = {}\n",
    "trained_models = {}\n",
    "for name, model in models.items():\n",
    "    if name in param_grids:\n",
    "        print(f\"Running GridSearchCV for {name}...\")\n",
    "        grid = GridSearchCV(model, param_grids[name], cv=5, scoring=\"roc_auc\", n_jobs=-1)\n",
    "        grid.fit(X_train, y_train)\n",
    "        best_model = grid.best_estimator_\n",
    "        print(\"Best params for\", name, \":\", grid.best_params_)\n",
    "    else:\n",
    "        best_model = model.fit(X_train, y_train)\n",
    "    trained_models[name] = best_model\n",
    "    y_pred = best_model.predict(X_test)\n",
    "    y_proba = best_model.predict_proba(X_test)[:,1]\n",
    "    results[name] = {\n",
    "        \"roc_auc\": roc_auc_score(y_test, y_proba),\n",
    "        \"accuracy\": accuracy_score(y_test, y_pred),\n",
    "        \"precision\": precision_score(y_test, y_pred),\n",
    "        \"recall\": recall_score(y_test, y_pred),\n",
    "        \"f1\": f1_score(y_test, y_pred)\n",
    "    }\n",
    "pd.DataFrame(results).T"
   ]
  },
  {
   "cell_type": "code",
   "execution_count": null,
   "id": "37bfd59e",
   "metadata": {},
   "outputs": [],
   "source": [
    "best_name = max(results, key=lambda k: results[k][\"roc_auc\"])\n",
    "best_model = trained_models[best_name]\n",
    "joblib.dump(best_model, \"parkinsons_project/models/best_model.joblib\")\n",
    "with open(\"parkinsons_project/assets/metrics.json\", \"w\") as f:\n",
    "    json.dump(results, f, indent=4)\n",
    "print(\"Best model:\", best_name, results[best_name])"
   ]
  },
  {
   "cell_type": "code",
   "execution_count": null,
   "id": "9097e6a2",
   "metadata": {},
   "outputs": [],
   "source": [
    "cm = confusion_matrix(y_test, best_model.predict(X_test))\n",
    "plt.imshow(cm, cmap=\"Blues\")\n",
    "plt.title(\"Confusion Matrix\")\n",
    "plt.colorbar()\n",
    "plt.savefig(\"parkinsons_project/assets/confusion_matrix.png\")\n",
    "plt.close()\n",
    "y_proba = best_model.predict_proba(X_test)[:,1]\n",
    "fpr, tpr, _ = roc_curve(y_test, y_proba)\n",
    "plt.plot(fpr, tpr, label=f\"{best_name} (AUC={results[best_name]['roc_auc']:.2f})\")\n",
    "plt.plot([0,1],[0,1],'k--')\n",
    "plt.legend()\n",
    "plt.savefig(\"parkinsons_project/assets/roc_curve.png\")\n",
    "plt.close()\n",
    "prec, rec, _ = precision_recall_curve(y_test, y_proba)\n",
    "plt.plot(rec, prec, label=best_name)\n",
    "plt.legend()\n",
    "plt.savefig(\"parkinsons_project/assets/pr_curve.png\")\n",
    "plt.close()\n",
    "print(\"Plots saved\")"
   ]
  },
  {
   "cell_type": "code",
   "execution_count": null,
   "id": "7aa066ca",
   "metadata": {},
   "outputs": [],
   "source": [
    "try:\n",
    "    explainer = shap.Explainer(best_model, X_train)\n",
    "    shap_values = explainer(X_test)\n",
    "    shap.summary_plot(shap_values, X_test, plot_type=\"bar\", show=False)\n",
    "    plt.savefig(\"parkinsons_project/assets/shap_summary.png\")\n",
    "    plt.close()\n",
    "except Exception as e:\n",
    "    print(\"SHAP failed:\", e)"
   ]
  },
  {
   "cell_type": "code",
   "execution_count": null,
   "id": "78c036c6",
   "metadata": {},
   "outputs": [],
   "source": [
    "import shutil\n",
    "shutil.make_archive(\"parkinsons_project\", 'zip', \"parkinsons_project\")\n",
    "print(\"ZIP created\")"
   ]
  }
 ],
 "metadata": {},
 "nbformat": 4,
 "nbformat_minor": 5
}
